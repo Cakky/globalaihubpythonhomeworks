{
 "cells": [
  {
   "cell_type": "code",
   "execution_count": 1,
   "metadata": {},
   "outputs": [
    {
     "name": "stdout",
     "output_type": "stream",
     "text": [
      "Lütfen kullanıcı adınızı giriniz:!!John\n",
      "Hoş Geldin John\n",
      "***Cellatı Öldürmek İçin Doğru Sayıyı Tahmin Ediniz Sayılar:0,1,2,3\n",
      "0 ile 3 arasında bir tam sayı giriniz: 2\n",
      "Hatalı Giriş...\n",
      "0 ile 3 arasında bir tam sayı giriniz: 3\n",
      "Oyunu Kazandınız...\n"
     ]
    }
   ],
   "source": [
    "kullaniciadi=\"John\"\n",
    "kullanici_adi1=input(\"Lütfen kullanıcı adınızı giriniz:!!\")\n",
    "if (kullanici_adi1==kullaniciadi):\n",
    "    print(\"Hoş Geldin John\")\n",
    "else:\n",
    "    print(\"Kullanici Adı Hatalı\")\n",
    "   \n",
    "print(\"***Cellatı Öldürmek İçin Doğru Sayıyı Tahmin Ediniz Sayılar:0,1,2,3\")\n",
    "num1 = int(input(\"0 ile 3 arasında bir tam sayı giriniz: \"))\n",
    "\n",
    "while num1 !=3:  \n",
    "    print(\"Hatalı Giriş...\")\n",
    "    num1 = int(input(\"0 ile 3 arasında bir tam sayı giriniz: \"))\n",
    "print(\"Oyunu Kazandınız...\")\n"
   ]
  },
  {
   "cell_type": "code",
   "execution_count": null,
   "metadata": {},
   "outputs": [],
   "source": []
  },
  {
   "cell_type": "code",
   "execution_count": null,
   "metadata": {},
   "outputs": [],
   "source": []
  },
  {
   "cell_type": "code",
   "execution_count": null,
   "metadata": {},
   "outputs": [],
   "source": []
  }
 ],
 "metadata": {
  "kernelspec": {
   "display_name": "Python 3",
   "language": "python",
   "name": "python3"
  },
  "language_info": {
   "codemirror_mode": {
    "name": "ipython",
    "version": 3
   },
   "file_extension": ".py",
   "mimetype": "text/x-python",
   "name": "python",
   "nbconvert_exporter": "python",
   "pygments_lexer": "ipython3",
   "version": "3.8.5"
  }
 },
 "nbformat": 4,
 "nbformat_minor": 4
}
