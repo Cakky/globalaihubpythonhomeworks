{
 "cells": [
  {
   "cell_type": "code",
   "execution_count": 2,
   "metadata": {},
   "outputs": [
    {
     "name": "stdout",
     "output_type": "stream",
     "text": [
      "İsminizi Giriniz:a\n",
      "Soyadınızı Giriniz:v\n",
      "Yaşınızı Giriniz:10\n",
      "Doğum Tarihini Giriniz:11\n",
      "İsminiz: a\n",
      "Soyadınız: v\n",
      "Yaşınız: 10\n",
      "Doğum Tarihiniz: 11\n",
      "\n",
      "Dışarı Çıkmanız Tehlikeli!!!\n"
     ]
    }
   ],
   "source": [
    "isim=input(\"İsminizi Giriniz:\")\n",
    "soyad=input(\"Soyadınızı Giriniz:\")\n",
    "yas=int(input(\"Yaşınızı Giriniz:\"))\n",
    "dogumtarihi=input(\"Doğum Tarihini Giriniz:\")\n",
    "print(\"İsminiz:\",isim)\n",
    "print(\"Soyadınız:\",soyad)\n",
    "print(\"Yaşınız:\",yas)\n",
    "print(\"Doğum Tarihiniz:\",dogumtarihi)\n",
    "print(\"\")\n",
    "if yas < 18:\n",
    "    print(\"Dışarı Çıkmanız Tehlikeli!!!\")\n",
    "else:\n",
    "    print(\"Sokaga Çıkabilirsiniz\")\n",
    "\n",
    "             "
   ]
  },
  {
   "cell_type": "code",
   "execution_count": null,
   "metadata": {},
   "outputs": [],
   "source": []
  },
  {
   "cell_type": "code",
   "execution_count": null,
   "metadata": {},
   "outputs": [],
   "source": []
  },
  {
   "cell_type": "code",
   "execution_count": null,
   "metadata": {},
   "outputs": [],
   "source": []
  }
 ],
 "metadata": {
  "kernelspec": {
   "display_name": "Python 3",
   "language": "python",
   "name": "python3"
  },
  "language_info": {
   "codemirror_mode": {
    "name": "ipython",
    "version": 3
   },
   "file_extension": ".py",
   "mimetype": "text/x-python",
   "name": "python",
   "nbconvert_exporter": "python",
   "pygments_lexer": "ipython3",
   "version": "3.8.5"
  }
 },
 "nbformat": 4,
 "nbformat_minor": 4
}
