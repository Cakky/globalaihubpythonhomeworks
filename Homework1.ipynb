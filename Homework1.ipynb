{
 "cells": [
  {
   "cell_type": "code",
   "execution_count": 1,
   "metadata": {},
   "outputs": [
    {
     "name": "stdout",
     "output_type": "stream",
     "text": [
      "***GİRİLİN DEGERLERİN TAM SAYI OLMASINA DİKKAT EDİNİZ***\n",
      "Birinci sayiyi giriniz:1\n",
      "1\n",
      "<class 'int'>\n",
      "İkinci sayiyi giriniz:2\n",
      "2\n",
      "<class 'int'>\n",
      "Ücüncü sayiyi giriniz:3\n",
      "3\n",
      "<class 'int'>\n",
      "Dördüncü sayiyi giriniz:5\n",
      "5\n",
      "<class 'int'>\n",
      "Beşinci sayiyi giriniz:8\n",
      "8\n",
      "<class 'int'>\n",
      "Sayı1: 1 \n",
      "Sayı2: 2 \n",
      "Sayı3: 3 \n",
      "Sayı4: 5 \n",
      "Sayı5: 8 \n"
     ]
    }
   ],
   "source": [
    "print(\"***GİRİLİN DEGERLERİN TAM SAYI OLMASINA DİKKAT EDİNİZ***\")\n",
    "sayı1=input(\"Birinci sayiyi giriniz:\")\n",
    "sayı1 = int(sayı1)\n",
    "print(sayı1)\n",
    "print(type(sayı1))\n",
    "\n",
    "sayı2=input(\"İkinci sayiyi giriniz:\")\n",
    "sayı2 = int(sayı2)\n",
    "print(sayı2)\n",
    "print(type(sayı2))\n",
    "\n",
    "sayı3=input(\"Ücüncü sayiyi giriniz:\")\n",
    "sayı3 = int(sayı3)\n",
    "print(sayı3)\n",
    "print(type(sayı3))\n",
    "\n",
    "sayı4=input(\"Dördüncü sayiyi giriniz:\")\n",
    "sayı4 = int(sayı4)\n",
    "print(sayı4)\n",
    "print(type(sayı4))\n",
    "sayı5=input(\"Beşinci sayiyi giriniz:\")\n",
    "sayı5 = int(sayı5)\n",
    "print(sayı5)\n",
    "print(type(sayı5))\n",
    "\n",
    "print(f'Sayı1: {sayı1} ')\n",
    "print(f'Sayı2: {sayı2} ')\n",
    "print(f'Sayı3: {sayı3} ')\n",
    "print(f'Sayı4: {sayı4} ')\n",
    "print(f'Sayı5: {sayı5} ')"
   ]
  },
  {
   "cell_type": "code",
   "execution_count": null,
   "metadata": {},
   "outputs": [],
   "source": [
    "\n"
   ]
  },
  {
   "cell_type": "code",
   "execution_count": null,
   "metadata": {},
   "outputs": [],
   "source": []
  }
 ],
 "metadata": {
  "kernelspec": {
   "display_name": "Python 3",
   "language": "python",
   "name": "python3"
  },
  "language_info": {
   "codemirror_mode": {
    "name": "ipython",
    "version": 3
   },
   "file_extension": ".py",
   "mimetype": "text/x-python",
   "name": "python",
   "nbconvert_exporter": "python",
   "pygments_lexer": "ipython3",
   "version": "3.8.5"
  }
 },
 "nbformat": 4,
 "nbformat_minor": 4
}
